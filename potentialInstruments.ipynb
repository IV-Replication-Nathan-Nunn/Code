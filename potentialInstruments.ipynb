{
  "nbformat": 4,
  "nbformat_minor": 0,
  "metadata": {
    "colab": {
      "provenance": []
    },
    "kernelspec": {
      "name": "python3",
      "display_name": "Python 3"
    },
    "language_info": {
      "name": "python"
    }
  },
  "cells": [
    {
      "cell_type": "code",
      "execution_count": 1,
      "metadata": {
        "id": "LIfuLgE4IbzO"
      },
      "outputs": [],
      "source": [
        "import os\n",
        "import pandas as pd\n",
        "import numpy as np\n",
        "import statsmodels.api as sm\n",
        "import statsmodels.formula.api as smf\n",
        "import matplotlib.pyplot as plt\n",
        "import seaborn as sns"
      ]
    },
    {
      "cell_type": "code",
      "source": [
        "def load_data(file_name):\n",
        "    current_dir = os.getcwd()\n",
        "    os.chdir(current_dir)\n",
        "    data = pd.read_csv(file_name)\n",
        "    # Drop rows with NaN values\n",
        "    data.fillna('0')\n",
        "    return data\n",
        "\n",
        "def perform_iv_first_stage(data, instruments, columnTitle):\n",
        "    # Independent instrument variables\n",
        "    X = data[instruments]\n",
        "    y = data['ln_export_area']\n",
        "    X = sm.add_constant(X) # Adding a constant term\n",
        "\n",
        "    first_stage = sm.OLS(y, X).fit()\n",
        "    data[columnTitle] = first_stage.predict(X) # Adding predicted values\n",
        "    return first_stage, data\n",
        "\n",
        "# Instrumental Variable Regression - Second Stage\n",
        "def perform_iv_second_stage(data, columnTitle, year):\n",
        "    X = data[[columnTitle]]\n",
        "    y = data[year]\n",
        "    X = sm.add_constant(X) # Adding a constant term\n",
        "\n",
        "    second_stage = sm.OLS(y, X).fit()\n",
        "    return second_stage\n",
        "\n",
        "def print_summary(model, data, independent_vars):\n",
        "    summary = model.summary().as_text()\n",
        "    summary_stats = data[independent_vars].describe().to_string()\n",
        "    print(summary + '\\n\\nSummary Statistics:\\n' + summary_stats)"
      ],
      "metadata": {
        "id": "eKspk5GiIeWm"
      },
      "execution_count": 2,
      "outputs": []
    },
    {
      "cell_type": "code",
      "source": [
        "file = '/content/mergedReplicationData2.csv'\n",
        "years = ['2000', '2005', '2010', '2015', '2020']\n",
        "coefs = []\n",
        "df = pd.read_csv(file)"
      ],
      "metadata": {
        "id": "zbj-29D5Il67"
      },
      "execution_count": 4,
      "outputs": []
    },
    {
      "cell_type": "code",
      "source": [
        "#2000\n",
        "instruments = ['rain_min', 'indian_distance_minimum',\n",
        "               'colony3', 'colony7']\n",
        "columnTitle = 'predicted_ln_export_area1'\n",
        "year = 'ln_maddison_pcgdp2000'\n",
        "firstStageResults1, df = perform_iv_first_stage(df, instruments, columnTitle)\n",
        "secondStageResults1 = perform_iv_second_stage(df, columnTitle, year)\n",
        "print_summary(secondStageResults1, df, instruments)\n",
        "coefs.append(secondStageResults1.params[1])"
      ],
      "metadata": {
        "colab": {
          "base_uri": "https://localhost:8080/"
        },
        "id": "tV6sYWBmInoO",
        "outputId": "3ca087dd-f74d-41ef-c2c2-9ef561f5fdc0"
      },
      "execution_count": 5,
      "outputs": [
        {
          "output_type": "stream",
          "name": "stdout",
          "text": [
            "                              OLS Regression Results                             \n",
            "=================================================================================\n",
            "Dep. Variable:     ln_maddison_pcgdp2000   R-squared:                       0.001\n",
            "Model:                               OLS   Adj. R-squared:                 -0.019\n",
            "Method:                    Least Squares   F-statistic:                   0.06959\n",
            "Date:                   Mon, 29 Apr 2024   Prob (F-statistic):              0.793\n",
            "Time:                           04:36:11   Log-Likelihood:                -63.260\n",
            "No. Observations:                     52   AIC:                             130.5\n",
            "Df Residuals:                         50   BIC:                             134.4\n",
            "Df Model:                              1                                         \n",
            "Covariance Type:               nonrobust                                         \n",
            "=============================================================================================\n",
            "                                coef    std err          t      P>|t|      [0.025      0.975]\n",
            "---------------------------------------------------------------------------------------------\n",
            "const                         7.2355      0.404     17.930      0.000       6.425       8.046\n",
            "predicted_ln_export_area1    -0.0313      0.119     -0.264      0.793      -0.270       0.207\n",
            "==============================================================================\n",
            "Omnibus:                        3.617   Durbin-Watson:                   2.569\n",
            "Prob(Omnibus):                  0.164   Jarque-Bera (JB):                3.268\n",
            "Skew:                           0.611   Prob(JB):                        0.195\n",
            "Kurtosis:                       2.882   Cond. No.                         12.8\n",
            "==============================================================================\n",
            "\n",
            "Notes:\n",
            "[1] Standard Errors assume that the covariance matrix of the errors is correctly specified.\n",
            "\n",
            "Summary Statistics:\n",
            "        rain_min  indian_distance_minimum    colony3    colony7\n",
            "count  52.000000                52.000000  52.000000  52.000000\n",
            "mean    8.865385                 6.934245   0.096154   0.019231\n",
            "std    16.055088                 4.238689   0.297678   0.138675\n",
            "min     0.000000                 0.031910   0.000000   0.000000\n",
            "25%     0.000000                 2.667340   0.000000   0.000000\n",
            "50%     1.500000                 8.145162   0.000000   0.000000\n",
            "75%     9.250000                 9.537068   0.000000   0.000000\n",
            "max    69.000000                16.775434   1.000000   1.000000\n"
          ]
        }
      ]
    },
    {
      "cell_type": "code",
      "source": [
        "#2005\n",
        "instruments = ['rain_min', 'ln_coastline_area',\n",
        "               'region_s', 'indian_distance_minimum']\n",
        "columnTitle = 'predicted_ln_export_area2'\n",
        "year = 'LNYR2005'\n",
        "firstStageResults2, df = perform_iv_first_stage(df, instruments, columnTitle)\n",
        "secondStageResults2 = perform_iv_second_stage(df, columnTitle, year)\n",
        "print_summary(secondStageResults2, df, instruments)\n",
        "coefs.append(secondStageResults2.params[1])"
      ],
      "metadata": {
        "colab": {
          "base_uri": "https://localhost:8080/"
        },
        "id": "GHFbsE5eIp1x",
        "outputId": "28eefa63-e082-4f56-9b95-e4d5cbb3f728"
      },
      "execution_count": 6,
      "outputs": [
        {
          "output_type": "stream",
          "name": "stdout",
          "text": [
            "                            OLS Regression Results                            \n",
            "==============================================================================\n",
            "Dep. Variable:               LNYR2005   R-squared:                       0.108\n",
            "Model:                            OLS   Adj. R-squared:                  0.090\n",
            "Method:                 Least Squares   F-statistic:                     6.043\n",
            "Date:                Mon, 29 Apr 2024   Prob (F-statistic):             0.0175\n",
            "Time:                        04:36:13   Log-Likelihood:                -75.688\n",
            "No. Observations:                  52   AIC:                             155.4\n",
            "Df Residuals:                      50   BIC:                             159.3\n",
            "Df Model:                           1                                         \n",
            "Covariance Type:            nonrobust                                         \n",
            "=============================================================================================\n",
            "                                coef    std err          t      P>|t|      [0.025      0.975]\n",
            "---------------------------------------------------------------------------------------------\n",
            "const                         7.7248      0.377     20.498      0.000       6.968       8.482\n",
            "predicted_ln_export_area2    -0.2618      0.106     -2.458      0.017      -0.476      -0.048\n",
            "==============================================================================\n",
            "Omnibus:                        2.272   Durbin-Watson:                   2.731\n",
            "Prob(Omnibus):                  0.321   Jarque-Bera (JB):                2.194\n",
            "Skew:                           0.455   Prob(JB):                        0.334\n",
            "Kurtosis:                       2.570   Cond. No.                         9.71\n",
            "==============================================================================\n",
            "\n",
            "Notes:\n",
            "[1] Standard Errors assume that the covariance matrix of the errors is correctly specified.\n",
            "\n",
            "Summary Statistics:\n",
            "        rain_min  ln_coastline_area   region_s  indian_distance_minimum\n",
            "count  52.000000          52.000000  52.000000                52.000000\n",
            "mean    8.865385          -0.237794   0.173077                 6.934245\n",
            "std    16.055088           3.235200   0.382005                 4.238689\n",
            "min     0.000000          -4.605170   0.000000                 0.031910\n",
            "25%     0.000000          -4.605170   0.000000                 2.667340\n",
            "50%     1.500000           0.293984   0.000000                 8.145162\n",
            "75%     9.250000           1.669820   0.000000                 9.537068\n",
            "max    69.000000           6.983902   1.000000                16.775434\n"
          ]
        }
      ]
    },
    {
      "cell_type": "code",
      "source": [
        "#2010\n",
        "instruments = ['abs_latitude', 'saharan_distance_minimum',\n",
        "               'colony0', 'colony5']\n",
        "columnTitle = 'predicted_ln_export_area3'\n",
        "year = 'LNYR2010'\n",
        "firstStageResults3, df = perform_iv_first_stage(df, instruments, columnTitle)\n",
        "secondStageResults3 = perform_iv_second_stage(df, columnTitle, year)\n",
        "print_summary(secondStageResults3, df, instruments)\n",
        "coefs.append(secondStageResults3.params[1])"
      ],
      "metadata": {
        "colab": {
          "base_uri": "https://localhost:8080/"
        },
        "id": "E-tL1_8DIry_",
        "outputId": "b03ff5e3-e4ad-4098-9ad6-30805608a927"
      },
      "execution_count": 7,
      "outputs": [
        {
          "output_type": "stream",
          "name": "stdout",
          "text": [
            "                            OLS Regression Results                            \n",
            "==============================================================================\n",
            "Dep. Variable:               LNYR2010   R-squared:                       0.216\n",
            "Model:                            OLS   Adj. R-squared:                  0.201\n",
            "Method:                 Least Squares   F-statistic:                     13.80\n",
            "Date:                Mon, 29 Apr 2024   Prob (F-statistic):           0.000513\n",
            "Time:                        04:36:15   Log-Likelihood:                -69.405\n",
            "No. Observations:                  52   AIC:                             142.8\n",
            "Df Residuals:                      50   BIC:                             146.7\n",
            "Df Model:                           1                                         \n",
            "Covariance Type:            nonrobust                                         \n",
            "=============================================================================================\n",
            "                                coef    std err          t      P>|t|      [0.025      0.975]\n",
            "---------------------------------------------------------------------------------------------\n",
            "const                         8.1699      0.268     30.450      0.000       7.631       8.709\n",
            "predicted_ln_export_area3    -0.2675      0.072     -3.715      0.001      -0.412      -0.123\n",
            "==============================================================================\n",
            "Omnibus:                        0.658   Durbin-Watson:                   2.461\n",
            "Prob(Omnibus):                  0.720   Jarque-Bera (JB):                0.351\n",
            "Skew:                           0.200   Prob(JB):                        0.839\n",
            "Kurtosis:                       3.042   Cond. No.                         8.12\n",
            "==============================================================================\n",
            "\n",
            "Notes:\n",
            "[1] Standard Errors assume that the covariance matrix of the errors is correctly specified.\n",
            "\n",
            "Summary Statistics:\n",
            "       abs_latitude  saharan_distance_minimum    colony0    colony5\n",
            "count     52.000000                 52.000000  52.000000  52.000000\n",
            "mean      13.550000                  3.511205   0.038462   0.019231\n",
            "std        9.858598                  1.567818   0.194184   0.138675\n",
            "min        0.200000                  0.309734   0.000000   0.000000\n",
            "25%        6.000000                  2.733061   0.000000   0.000000\n",
            "50%       12.000000                  3.355966   0.000000   0.000000\n",
            "75%       19.250000                  4.681708   0.000000   0.000000\n",
            "max       36.000000                  6.637325   1.000000   1.000000\n"
          ]
        }
      ]
    },
    {
      "cell_type": "code",
      "source": [
        "#2015\n",
        "instruments = ['longitude', 'rain_min',\n",
        "               'indian_distance_minimum', 'colony7']\n",
        "columnTitle = 'predicted_ln_export_area4'\n",
        "year = 'LNYR2015'\n",
        "firstStageResults4, df = perform_iv_first_stage(df, instruments, columnTitle)\n",
        "secondStageResults4 = perform_iv_second_stage(df, columnTitle, year)\n",
        "print_summary(secondStageResults4, df, instruments)\n",
        "coefs.append(secondStageResults4.params[1])"
      ],
      "metadata": {
        "colab": {
          "base_uri": "https://localhost:8080/"
        },
        "id": "ha7bHFVgItfI",
        "outputId": "3d36fc88-a49b-4d11-95df-3b1bd3ad8c8f"
      },
      "execution_count": 8,
      "outputs": [
        {
          "output_type": "stream",
          "name": "stdout",
          "text": [
            "                            OLS Regression Results                            \n",
            "==============================================================================\n",
            "Dep. Variable:               LNYR2015   R-squared:                       0.071\n",
            "Model:                            OLS   Adj. R-squared:                  0.052\n",
            "Method:                 Least Squares   F-statistic:                     3.810\n",
            "Date:                Mon, 29 Apr 2024   Prob (F-statistic):             0.0566\n",
            "Time:                        04:36:17   Log-Likelihood:                -70.097\n",
            "No. Observations:                  52   AIC:                             144.2\n",
            "Df Residuals:                      50   BIC:                             148.1\n",
            "Df Model:                           1                                         \n",
            "Covariance Type:            nonrobust                                         \n",
            "=============================================================================================\n",
            "                                coef    std err          t      P>|t|      [0.025      0.975]\n",
            "---------------------------------------------------------------------------------------------\n",
            "const                         7.8907      0.317     24.905      0.000       7.254       8.527\n",
            "predicted_ln_export_area4    -0.1725      0.088     -1.952      0.057      -0.350       0.005\n",
            "==============================================================================\n",
            "Omnibus:                        3.822   Durbin-Watson:                   2.713\n",
            "Prob(Omnibus):                  0.148   Jarque-Bera (JB):                1.946\n",
            "Skew:                           0.162   Prob(JB):                        0.378\n",
            "Kurtosis:                       2.109   Cond. No.                         9.18\n",
            "==============================================================================\n",
            "\n",
            "Notes:\n",
            "[1] Standard Errors assume that the covariance matrix of the errors is correctly specified.\n",
            "\n",
            "Summary Statistics:\n",
            "       longitude   rain_min  indian_distance_minimum    colony7\n",
            "count  52.000000  52.000000                52.000000  52.000000\n",
            "mean   16.698759   8.865385                 6.934245   0.019231\n",
            "std    20.214419  16.055088                 4.238689   0.138675\n",
            "min   -24.044310   0.000000                 0.031910   0.000000\n",
            "25%     0.430415   0.000000                 2.667340   0.000000\n",
            "50%    17.795380   1.500000                 8.145162   0.000000\n",
            "75%    30.405565   9.250000                 9.537068   0.000000\n",
            "max    57.793870  69.000000                16.775434   1.000000\n"
          ]
        }
      ]
    },
    {
      "cell_type": "code",
      "source": [
        "#2020\n",
        "instruments = ['longitude', 'island_dum',\n",
        "               'colony7']\n",
        "columnTitle = 'predicted_ln_export_area5'\n",
        "year = 'LNYR2020'\n",
        "firstStageResults5, df = perform_iv_first_stage(df, instruments, columnTitle)\n",
        "secondStageResults5 = perform_iv_second_stage(df, columnTitle, year)\n",
        "print_summary(secondStageResults5, df, instruments)\n",
        "coefs.append(secondStageResults5.params[1])"
      ],
      "metadata": {
        "colab": {
          "base_uri": "https://localhost:8080/"
        },
        "id": "KWid6HX0IvDw",
        "outputId": "f9f568ef-0f10-46b9-a495-16c341fa8d3e"
      },
      "execution_count": 9,
      "outputs": [
        {
          "output_type": "stream",
          "name": "stdout",
          "text": [
            "                            OLS Regression Results                            \n",
            "==============================================================================\n",
            "Dep. Variable:               LNYR2020   R-squared:                       0.121\n",
            "Model:                            OLS   Adj. R-squared:                  0.104\n",
            "Method:                 Least Squares   F-statistic:                     6.897\n",
            "Date:                Mon, 29 Apr 2024   Prob (F-statistic):             0.0114\n",
            "Time:                        04:36:19   Log-Likelihood:                -65.717\n",
            "No. Observations:                  52   AIC:                             135.4\n",
            "Df Residuals:                      50   BIC:                             139.3\n",
            "Df Model:                           1                                         \n",
            "Covariance Type:            nonrobust                                         \n",
            "=============================================================================================\n",
            "                                coef    std err          t      P>|t|      [0.025      0.975]\n",
            "---------------------------------------------------------------------------------------------\n",
            "const                         7.8043      0.224     34.859      0.000       7.355       8.254\n",
            "predicted_ln_export_area5    -0.1517      0.058     -2.626      0.011      -0.268      -0.036\n",
            "==============================================================================\n",
            "Omnibus:                        3.372   Durbin-Watson:                   2.509\n",
            "Prob(Omnibus):                  0.185   Jarque-Bera (JB):                1.717\n",
            "Skew:                           0.084   Prob(JB):                        0.424\n",
            "Kurtosis:                       2.126   Cond. No.                         7.51\n",
            "==============================================================================\n",
            "\n",
            "Notes:\n",
            "[1] Standard Errors assume that the covariance matrix of the errors is correctly specified.\n",
            "\n",
            "Summary Statistics:\n",
            "       longitude  island_dum    colony7\n",
            "count  52.000000   52.000000  52.000000\n",
            "mean   16.698759    0.096154   0.019231\n",
            "std    20.214419    0.297678   0.138675\n",
            "min   -24.044310    0.000000   0.000000\n",
            "25%     0.430415    0.000000   0.000000\n",
            "50%    17.795380    0.000000   0.000000\n",
            "75%    30.405565    0.000000   0.000000\n",
            "max    57.793870    1.000000   1.000000\n"
          ]
        }
      ]
    },
    {
      "cell_type": "code",
      "source": [
        "data = pd.DataFrame({\n",
        "'Date': years,\n",
        "'predicted ln_export_area coef': coefs\n",
        "})\n",
        "# Set the plot style\n",
        "sns.set(style=\"whitegrid\")\n",
        "# Create the plot\n",
        "plt.figure(figsize=(10, 6))\n",
        "plot = sns.lineplot(x='Date', y='predicted ln_export_area coef', data=data)\n",
        "# Customize the plot\n",
        "plot.set_title('Time Series Plot')\n",
        "plot.set_xlabel('Date')\n",
        "plot.set_ylabel('Value')\n",
        "\n",
        "for date, value in zip(years, coefs):\n",
        "    plt.text(date, value, str(f\"%.4f\" %value), color='black', ha='center')\n",
        "# Show the plot\n",
        "plt.show()"
      ],
      "metadata": {
        "colab": {
          "base_uri": "https://localhost:8080/",
          "height": 573
        },
        "id": "dpRPtkjpIxPH",
        "outputId": "175fe883-79d2-4dff-d164-85fe84fe5b61"
      },
      "execution_count": 10,
      "outputs": [
        {
          "output_type": "display_data",
          "data": {
            "text/plain": [
              "<Figure size 1000x600 with 1 Axes>"
            ],
            "image/png": "[encoded data removed]"
          },
          "metadata": {}
        }
      ]
    }
  ]
}